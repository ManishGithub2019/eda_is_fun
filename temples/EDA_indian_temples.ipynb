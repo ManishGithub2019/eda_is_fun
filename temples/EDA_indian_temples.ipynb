{
 "cells": [
  {
   "cell_type": "markdown",
   "id": "48e4a5ce",
   "metadata": {},
   "source": [
    "### Basic EDA for indian temple data file \n",
    "- Data source from a post shared by https://www.linkedin.com/in/nirmal-gaud-210408174/"
   ]
  },
  {
   "cell_type": "code",
   "execution_count": 94,
   "id": "c0016dcc",
   "metadata": {},
   "outputs": [],
   "source": [
    "import pandas as pd\n",
    "import numpy as np \n",
    "import matplotlib.pyplot as plt\n",
    "import seaborn as sns\n",
    "import warnings\n",
    "warnings.filterwarnings(\"ignore\")\n",
    "from pandas_summary import DataFrameSummary"
   ]
  },
  {
   "cell_type": "code",
   "execution_count": 95,
   "id": "07be4370",
   "metadata": {},
   "outputs": [],
   "source": [
    "df = pd.read_csv(\"../Data/temples.csv\")\n",
    "dfs = DataFrameSummary(df)"
   ]
  },
  {
   "cell_type": "code",
   "execution_count": 96,
   "id": "9bf82df5",
   "metadata": {},
   "outputs": [
    {
     "data": {
      "text/html": [
       "<div>\n",
       "<style scoped>\n",
       "    .dataframe tbody tr th:only-of-type {\n",
       "        vertical-align: middle;\n",
       "    }\n",
       "\n",
       "    .dataframe tbody tr th {\n",
       "        vertical-align: top;\n",
       "    }\n",
       "\n",
       "    .dataframe thead th {\n",
       "        text-align: right;\n",
       "    }\n",
       "</style>\n",
       "<table border=\"1\" class=\"dataframe\">\n",
       "  <thead>\n",
       "    <tr style=\"text-align: right;\">\n",
       "      <th></th>\n",
       "      <th>templeName</th>\n",
       "      <th>Description</th>\n",
       "      <th>Location</th>\n",
       "      <th>Coordinates</th>\n",
       "      <th>DistanceFromMumbai(Km)</th>\n",
       "      <th>DistanceFromNewDelhi(Km)</th>\n",
       "      <th>DistanceFromChennai(Km)</th>\n",
       "      <th>DistanceFromKolkata(Km)</th>\n",
       "    </tr>\n",
       "  </thead>\n",
       "  <tbody>\n",
       "    <tr>\n",
       "      <th>counts</th>\n",
       "      <td>53</td>\n",
       "      <td>53</td>\n",
       "      <td>52</td>\n",
       "      <td>53</td>\n",
       "      <td>53</td>\n",
       "      <td>53</td>\n",
       "      <td>53</td>\n",
       "      <td>53</td>\n",
       "    </tr>\n",
       "    <tr>\n",
       "      <th>uniques</th>\n",
       "      <td>53</td>\n",
       "      <td>53</td>\n",
       "      <td>44</td>\n",
       "      <td>45</td>\n",
       "      <td>45</td>\n",
       "      <td>45</td>\n",
       "      <td>45</td>\n",
       "      <td>45</td>\n",
       "    </tr>\n",
       "    <tr>\n",
       "      <th>missing</th>\n",
       "      <td>0</td>\n",
       "      <td>0</td>\n",
       "      <td>1</td>\n",
       "      <td>0</td>\n",
       "      <td>0</td>\n",
       "      <td>0</td>\n",
       "      <td>0</td>\n",
       "      <td>0</td>\n",
       "    </tr>\n",
       "    <tr>\n",
       "      <th>missing_perc</th>\n",
       "      <td>0%</td>\n",
       "      <td>0%</td>\n",
       "      <td>1.89%</td>\n",
       "      <td>0%</td>\n",
       "      <td>0%</td>\n",
       "      <td>0%</td>\n",
       "      <td>0%</td>\n",
       "      <td>0%</td>\n",
       "    </tr>\n",
       "    <tr>\n",
       "      <th>types</th>\n",
       "      <td>unique</td>\n",
       "      <td>unique</td>\n",
       "      <td>categorical</td>\n",
       "      <td>categorical</td>\n",
       "      <td>numeric</td>\n",
       "      <td>numeric</td>\n",
       "      <td>numeric</td>\n",
       "      <td>numeric</td>\n",
       "    </tr>\n",
       "  </tbody>\n",
       "</table>\n",
       "</div>"
      ],
      "text/plain": [
       "             templeName Description     Location  Coordinates  \\\n",
       "counts               53          53           52           53   \n",
       "uniques              53          53           44           45   \n",
       "missing               0           0            1            0   \n",
       "missing_perc         0%          0%        1.89%           0%   \n",
       "types            unique      unique  categorical  categorical   \n",
       "\n",
       "             DistanceFromMumbai(Km) DistanceFromNewDelhi(Km)  \\\n",
       "counts                           53                       53   \n",
       "uniques                          45                       45   \n",
       "missing                           0                        0   \n",
       "missing_perc                     0%                       0%   \n",
       "types                       numeric                  numeric   \n",
       "\n",
       "             DistanceFromChennai(Km) DistanceFromKolkata(Km)  \n",
       "counts                            53                      53  \n",
       "uniques                           45                      45  \n",
       "missing                            0                       0  \n",
       "missing_perc                      0%                      0%  \n",
       "types                        numeric                 numeric  "
      ]
     },
     "execution_count": 96,
     "metadata": {},
     "output_type": "execute_result"
    }
   ],
   "source": [
    "dfs.columns_stats"
   ]
  },
  {
   "cell_type": "markdown",
   "id": "426cc62f",
   "metadata": {},
   "source": [
    "### Summary: \n",
    "- There is one row with missing value(Location feature) \n",
    "- Data is spread between numeric and cateogorocal values "
   ]
  },
  {
   "cell_type": "code",
   "execution_count": 97,
   "id": "c48c1a4b",
   "metadata": {},
   "outputs": [
    {
     "data": {
      "text/html": [
       "<div>\n",
       "<style scoped>\n",
       "    .dataframe tbody tr th:only-of-type {\n",
       "        vertical-align: middle;\n",
       "    }\n",
       "\n",
       "    .dataframe tbody tr th {\n",
       "        vertical-align: top;\n",
       "    }\n",
       "\n",
       "    .dataframe thead th {\n",
       "        text-align: right;\n",
       "    }\n",
       "</style>\n",
       "<table border=\"1\" class=\"dataframe\">\n",
       "  <thead>\n",
       "    <tr style=\"text-align: right;\">\n",
       "      <th></th>\n",
       "      <th>templeName</th>\n",
       "      <th>Description</th>\n",
       "      <th>Location</th>\n",
       "      <th>Coordinates</th>\n",
       "      <th>DistanceFromMumbai(Km)</th>\n",
       "      <th>DistanceFromNewDelhi(Km)</th>\n",
       "      <th>DistanceFromChennai(Km)</th>\n",
       "      <th>DistanceFromKolkata(Km)</th>\n",
       "    </tr>\n",
       "  </thead>\n",
       "  <tbody>\n",
       "    <tr>\n",
       "      <th>0</th>\n",
       "      <td>Badrinath Temple | Badrinath, Uttarakhand</td>\n",
       "      <td>The Badrinath temple also known as Badrinaraya...</td>\n",
       "      <td>Badrinath</td>\n",
       "      <td>(30.7423302, 79.4930256)</td>\n",
       "      <td>1454.013555</td>\n",
       "      <td>323.309362</td>\n",
       "      <td>1957.065909</td>\n",
       "      <td>1265.717344</td>\n",
       "    </tr>\n",
       "    <tr>\n",
       "      <th>1</th>\n",
       "      <td>Kedarnath Temple | Kedarnath, Uttarakhand</td>\n",
       "      <td>Located at the highest altitude among the Char...</td>\n",
       "      <td>Kedarnath</td>\n",
       "      <td>(30.7345609, 79.0673204)</td>\n",
       "      <td>1434.105557</td>\n",
       "      <td>295.986734</td>\n",
       "      <td>1958.477211</td>\n",
       "      <td>1294.937834</td>\n",
       "    </tr>\n",
       "  </tbody>\n",
       "</table>\n",
       "</div>"
      ],
      "text/plain": [
       "                                  templeName  \\\n",
       "0  Badrinath Temple | Badrinath, Uttarakhand   \n",
       "1  Kedarnath Temple | Kedarnath, Uttarakhand   \n",
       "\n",
       "                                         Description   Location  \\\n",
       "0  The Badrinath temple also known as Badrinaraya...  Badrinath   \n",
       "1  Located at the highest altitude among the Char...  Kedarnath   \n",
       "\n",
       "                Coordinates  DistanceFromMumbai(Km)  DistanceFromNewDelhi(Km)  \\\n",
       "0  (30.7423302, 79.4930256)             1454.013555                323.309362   \n",
       "1  (30.7345609, 79.0673204)             1434.105557                295.986734   \n",
       "\n",
       "   DistanceFromChennai(Km)  DistanceFromKolkata(Km)  \n",
       "0              1957.065909              1265.717344  \n",
       "1              1958.477211              1294.937834  "
      ]
     },
     "execution_count": 97,
     "metadata": {},
     "output_type": "execute_result"
    }
   ],
   "source": [
    "df.head(2)"
   ]
  },
  {
   "cell_type": "markdown",
   "id": "8d017333",
   "metadata": {},
   "source": [
    "### Print the row where the location is not available "
   ]
  },
  {
   "cell_type": "code",
   "execution_count": 15,
   "id": "373e8729",
   "metadata": {},
   "outputs": [
    {
     "data": {
      "text/html": [
       "<div>\n",
       "<style scoped>\n",
       "    .dataframe tbody tr th:only-of-type {\n",
       "        vertical-align: middle;\n",
       "    }\n",
       "\n",
       "    .dataframe tbody tr th {\n",
       "        vertical-align: top;\n",
       "    }\n",
       "\n",
       "    .dataframe thead th {\n",
       "        text-align: right;\n",
       "    }\n",
       "</style>\n",
       "<table border=\"1\" class=\"dataframe\">\n",
       "  <thead>\n",
       "    <tr style=\"text-align: right;\">\n",
       "      <th></th>\n",
       "      <th>templeName</th>\n",
       "      <th>Description</th>\n",
       "      <th>Location</th>\n",
       "      <th>Coordinates</th>\n",
       "      <th>DistanceFromMumbai(Km)</th>\n",
       "      <th>DistanceFromNewDelhi(Km)</th>\n",
       "      <th>DistanceFromChennai(Km)</th>\n",
       "      <th>DistanceFromKolkata(Km)</th>\n",
       "    </tr>\n",
       "  </thead>\n",
       "  <tbody>\n",
       "    <tr>\n",
       "      <th>17</th>\n",
       "      <td>Konark Sun Temple, Orissa</td>\n",
       "      <td>A dream crafted in stones, Konark Sun temple i...</td>\n",
       "      <td>NaN</td>\n",
       "      <td>(46.3144754, 11.0480288)</td>\n",
       "      <td>6345.522996</td>\n",
       "      <td>5987.434545</td>\n",
       "      <td>7374.45296</td>\n",
       "      <td>7275.959203</td>\n",
       "    </tr>\n",
       "  </tbody>\n",
       "</table>\n",
       "</div>"
      ],
      "text/plain": [
       "                   templeName  \\\n",
       "17  Konark Sun Temple, Orissa   \n",
       "\n",
       "                                          Description Location  \\\n",
       "17  A dream crafted in stones, Konark Sun temple i...      NaN   \n",
       "\n",
       "                 Coordinates  DistanceFromMumbai(Km)  \\\n",
       "17  (46.3144754, 11.0480288)             6345.522996   \n",
       "\n",
       "    DistanceFromNewDelhi(Km)  DistanceFromChennai(Km)  DistanceFromKolkata(Km)  \n",
       "17               5987.434545               7374.45296              7275.959203  "
      ]
     },
     "execution_count": 15,
     "metadata": {},
     "output_type": "execute_result"
    }
   ],
   "source": [
    "df[df.Location.isna()]"
   ]
  },
  {
   "cell_type": "markdown",
   "id": "10f4953a",
   "metadata": {},
   "source": [
    "### Extract temple state from the templeName in a new column 'templeState'"
   ]
  },
  {
   "cell_type": "code",
   "execution_count": 98,
   "id": "7597c818",
   "metadata": {},
   "outputs": [],
   "source": [
    "def temple_state(x):\n",
    "    #print(str.split(x.strip(),\",\")[1].strip()) # Added during debug\n",
    "    return (str.split(x.strip(),\",\")[1].strip())"
   ]
  },
  {
   "cell_type": "code",
   "execution_count": null,
   "id": "64fa99dc",
   "metadata": {},
   "outputs": [],
   "source": [
    "df.insert(3, \"templeState\", df['templeName'].map(temple_state))"
   ]
  },
  {
   "cell_type": "code",
   "execution_count": 63,
   "id": "7c6d1dea",
   "metadata": {},
   "outputs": [
    {
     "data": {
      "text/html": [
       "<div>\n",
       "<style scoped>\n",
       "    .dataframe tbody tr th:only-of-type {\n",
       "        vertical-align: middle;\n",
       "    }\n",
       "\n",
       "    .dataframe tbody tr th {\n",
       "        vertical-align: top;\n",
       "    }\n",
       "\n",
       "    .dataframe thead th {\n",
       "        text-align: right;\n",
       "    }\n",
       "</style>\n",
       "<table border=\"1\" class=\"dataframe\">\n",
       "  <thead>\n",
       "    <tr style=\"text-align: right;\">\n",
       "      <th></th>\n",
       "      <th>templeName</th>\n",
       "      <th>Description</th>\n",
       "      <th>Location</th>\n",
       "      <th>templeState</th>\n",
       "      <th>Coordinates</th>\n",
       "      <th>DistanceFromMumbai(Km)</th>\n",
       "      <th>DistanceFromNewDelhi(Km)</th>\n",
       "      <th>DistanceFromChennai(Km)</th>\n",
       "      <th>DistanceFromKolkata(Km)</th>\n",
       "    </tr>\n",
       "  </thead>\n",
       "  <tbody>\n",
       "    <tr>\n",
       "      <th>0</th>\n",
       "      <td>Badrinath Temple | Badrinath, Uttarakhand</td>\n",
       "      <td>The Badrinath temple also known as Badrinaraya...</td>\n",
       "      <td>Badrinath</td>\n",
       "      <td>Uttarakhand</td>\n",
       "      <td>(30.7423302, 79.4930256)</td>\n",
       "      <td>1454.013555</td>\n",
       "      <td>323.309362</td>\n",
       "      <td>1957.065909</td>\n",
       "      <td>1265.717344</td>\n",
       "    </tr>\n",
       "    <tr>\n",
       "      <th>1</th>\n",
       "      <td>Kedarnath Temple | Kedarnath, Uttarakhand</td>\n",
       "      <td>Located at the highest altitude among the Char...</td>\n",
       "      <td>Kedarnath</td>\n",
       "      <td>Uttarakhand</td>\n",
       "      <td>(30.7345609, 79.0673204)</td>\n",
       "      <td>1434.105557</td>\n",
       "      <td>295.986734</td>\n",
       "      <td>1958.477211</td>\n",
       "      <td>1294.937834</td>\n",
       "    </tr>\n",
       "  </tbody>\n",
       "</table>\n",
       "</div>"
      ],
      "text/plain": [
       "                                  templeName  \\\n",
       "0  Badrinath Temple | Badrinath, Uttarakhand   \n",
       "1  Kedarnath Temple | Kedarnath, Uttarakhand   \n",
       "\n",
       "                                         Description   Location  templeState  \\\n",
       "0  The Badrinath temple also known as Badrinaraya...  Badrinath  Uttarakhand   \n",
       "1  Located at the highest altitude among the Char...  Kedarnath  Uttarakhand   \n",
       "\n",
       "                Coordinates  DistanceFromMumbai(Km)  DistanceFromNewDelhi(Km)  \\\n",
       "0  (30.7423302, 79.4930256)             1454.013555                323.309362   \n",
       "1  (30.7345609, 79.0673204)             1434.105557                295.986734   \n",
       "\n",
       "   DistanceFromChennai(Km)  DistanceFromKolkata(Km)  \n",
       "0              1957.065909              1265.717344  \n",
       "1              1958.477211              1294.937834  "
      ]
     },
     "execution_count": 63,
     "metadata": {},
     "output_type": "execute_result"
    }
   ],
   "source": [
    "df.head(2)"
   ]
  },
  {
   "cell_type": "code",
   "execution_count": 65,
   "id": "9b9d6f79",
   "metadata": {},
   "outputs": [
    {
     "data": {
      "text/plain": [
       "array(['Uttarakhand', 'Uttar Pradesh', 'Punjab', 'Jammu & Kashmir',\n",
       "       'Delhi', 'Himachal Pradesh', 'Orissa', 'West Bengal', 'Assam',\n",
       "       'Gujarat', 'Maharashtra', 'Rajasthan', 'Madhya Pradesh',\n",
       "       'Andhra Pradesh', 'Karnataka', 'Kerala', 'Tamil Nadu'],\n",
       "      dtype=object)"
      ]
     },
     "execution_count": 65,
     "metadata": {},
     "output_type": "execute_result"
    }
   ],
   "source": [
    "df.templeState.unique()"
   ]
  },
  {
   "cell_type": "markdown",
   "id": "c33ab8a8",
   "metadata": {},
   "source": [
    "### Temples per state using 'pandas.plot'"
   ]
  },
  {
   "cell_type": "code",
   "execution_count": 86,
   "id": "62c4baef",
   "metadata": {},
   "outputs": [
    {
     "data": {
      "text/plain": [
       "<AxesSubplot:>"
      ]
     },
     "execution_count": 86,
     "metadata": {},
     "output_type": "execute_result"
    },
    {
     "data": {
      "image/png": "[encoded data removed]",
      "text/plain": [
       "<Figure size 432x288 with 1 Axes>"
      ]
     },
     "metadata": {
      "needs_background": "light"
     },
     "output_type": "display_data"
    }
   ],
   "source": [
    "df['templeState'].value_counts().plot(kind='bar')\n"
   ]
  },
  {
   "cell_type": "markdown",
   "id": "fbb41192",
   "metadata": {},
   "source": [
    "### Temples per state using 'sns.countplot'"
   ]
  },
  {
   "cell_type": "code",
   "execution_count": 72,
   "id": "e72cb728",
   "metadata": {},
   "outputs": [
    {
     "data": {
      "image/png": "[encoded data removed]",
      "text/plain": [
       "<Figure size 720x432 with 1 Axes>"
      ]
     },
     "metadata": {
      "needs_background": "light"
     },
     "output_type": "display_data"
    }
   ],
   "source": [
    "plt.figure(figsize=(10,6))\n",
    "sns.countplot(data=df, x= 'templeState')\n",
    "plt.ylabel(\"State temple count\")\n",
    "plt.xticks(rotation= 90)\n",
    "plt.show()"
   ]
  },
  {
   "cell_type": "markdown",
   "id": "1e0dd2f4",
   "metadata": {},
   "source": [
    "### Temples per city using 'pandas.plot' "
   ]
  },
  {
   "cell_type": "code",
   "execution_count": 83,
   "id": "a9f85e65",
   "metadata": {},
   "outputs": [
    {
     "data": {
      "image/png": "[encoded data removed]",
      "text/plain": [
       "<Figure size 1080x432 with 1 Axes>"
      ]
     },
     "metadata": {
      "needs_background": "light"
     },
     "output_type": "display_data"
    }
   ],
   "source": [
    "plt.figure(figsize=(15,6))\n",
    "df['Location'].value_counts().plot(kind= 'bar')\n",
    "plt.ylabel(\"# of temples\")\n",
    "plt.xticks(rotation= 90)\n",
    "plt.show();"
   ]
  },
  {
   "cell_type": "code",
   "execution_count": 99,
   "id": "b8d7dfb3",
   "metadata": {},
   "outputs": [
    {
     "data": {
      "text/html": [
       "<div>\n",
       "<style scoped>\n",
       "    .dataframe tbody tr th:only-of-type {\n",
       "        vertical-align: middle;\n",
       "    }\n",
       "\n",
       "    .dataframe tbody tr th {\n",
       "        vertical-align: top;\n",
       "    }\n",
       "\n",
       "    .dataframe thead th {\n",
       "        text-align: right;\n",
       "    }\n",
       "</style>\n",
       "<table border=\"1\" class=\"dataframe\">\n",
       "  <thead>\n",
       "    <tr style=\"text-align: right;\">\n",
       "      <th></th>\n",
       "      <th>templeName</th>\n",
       "      <th>Description</th>\n",
       "      <th>Location</th>\n",
       "      <th>Coordinates</th>\n",
       "      <th>DistanceFromMumbai(Km)</th>\n",
       "      <th>DistanceFromNewDelhi(Km)</th>\n",
       "      <th>DistanceFromChennai(Km)</th>\n",
       "      <th>DistanceFromKolkata(Km)</th>\n",
       "    </tr>\n",
       "  </thead>\n",
       "  <tbody>\n",
       "    <tr>\n",
       "      <th>0</th>\n",
       "      <td>Badrinath Temple | Badrinath, Uttarakhand</td>\n",
       "      <td>The Badrinath temple also known as Badrinaraya...</td>\n",
       "      <td>Badrinath</td>\n",
       "      <td>(30.7423302, 79.4930256)</td>\n",
       "      <td>1454.013555</td>\n",
       "      <td>323.309362</td>\n",
       "      <td>1957.065909</td>\n",
       "      <td>1265.717344</td>\n",
       "    </tr>\n",
       "    <tr>\n",
       "      <th>1</th>\n",
       "      <td>Kedarnath Temple | Kedarnath, Uttarakhand</td>\n",
       "      <td>Located at the highest altitude among the Char...</td>\n",
       "      <td>Kedarnath</td>\n",
       "      <td>(30.7345609, 79.0673204)</td>\n",
       "      <td>1434.105557</td>\n",
       "      <td>295.986734</td>\n",
       "      <td>1958.477211</td>\n",
       "      <td>1294.937834</td>\n",
       "    </tr>\n",
       "  </tbody>\n",
       "</table>\n",
       "</div>"
      ],
      "text/plain": [
       "                                  templeName  \\\n",
       "0  Badrinath Temple | Badrinath, Uttarakhand   \n",
       "1  Kedarnath Temple | Kedarnath, Uttarakhand   \n",
       "\n",
       "                                         Description   Location  \\\n",
       "0  The Badrinath temple also known as Badrinaraya...  Badrinath   \n",
       "1  Located at the highest altitude among the Char...  Kedarnath   \n",
       "\n",
       "                Coordinates  DistanceFromMumbai(Km)  DistanceFromNewDelhi(Km)  \\\n",
       "0  (30.7423302, 79.4930256)             1454.013555                323.309362   \n",
       "1  (30.7345609, 79.0673204)             1434.105557                295.986734   \n",
       "\n",
       "   DistanceFromChennai(Km)  DistanceFromKolkata(Km)  \n",
       "0              1957.065909              1265.717344  \n",
       "1              1958.477211              1294.937834  "
      ]
     },
     "execution_count": 99,
     "metadata": {},
     "output_type": "execute_result"
    }
   ],
   "source": [
    "df.head(2)"
   ]
  },
  {
   "cell_type": "markdown",
   "id": "77628d16",
   "metadata": {},
   "source": [
    "### Write a generic function which can provide distance of temples in descending(farthest) order from a city\n",
    " - Return top 10 values only"
   ]
  },
  {
   "cell_type": "code",
   "execution_count": 92,
   "id": "ab193073",
   "metadata": {},
   "outputs": [],
   "source": [
    "def dist_from_city(x):\n",
    "    return df.sort_values(by= x, ignore_index=True, ascending=False).loc[:,['templeName',x]].head(10)"
   ]
  },
  {
   "cell_type": "code",
   "execution_count": 93,
   "id": "2ed225d0",
   "metadata": {},
   "outputs": [
    {
     "data": {
      "text/html": [
       "<div>\n",
       "<style scoped>\n",
       "    .dataframe tbody tr th:only-of-type {\n",
       "        vertical-align: middle;\n",
       "    }\n",
       "\n",
       "    .dataframe tbody tr th {\n",
       "        vertical-align: top;\n",
       "    }\n",
       "\n",
       "    .dataframe thead th {\n",
       "        text-align: right;\n",
       "    }\n",
       "</style>\n",
       "<table border=\"1\" class=\"dataframe\">\n",
       "  <thead>\n",
       "    <tr style=\"text-align: right;\">\n",
       "      <th></th>\n",
       "      <th>templeName</th>\n",
       "      <th>DistanceFromNewDelhi(Km)</th>\n",
       "    </tr>\n",
       "  </thead>\n",
       "  <tbody>\n",
       "    <tr>\n",
       "      <th>0</th>\n",
       "      <td>Konark Sun Temple, Orissa</td>\n",
       "      <td>5987.434545</td>\n",
       "    </tr>\n",
       "    <tr>\n",
       "      <th>1</th>\n",
       "      <td>Padmanabhaswamy temple | Thiruvananthapuram, K...</td>\n",
       "      <td>2224.043367</td>\n",
       "    </tr>\n",
       "    <tr>\n",
       "      <th>2</th>\n",
       "      <td>Ramanathaswamy Temple | Rameshwaram, Tamil Nadu</td>\n",
       "      <td>2151.056161</td>\n",
       "    </tr>\n",
       "    <tr>\n",
       "      <th>3</th>\n",
       "      <td>Sabarimala Temple | Pathanamthitta, Kerala</td>\n",
       "      <td>2140.610913</td>\n",
       "    </tr>\n",
       "    <tr>\n",
       "      <th>4</th>\n",
       "      <td>Annamalaiyer Temple | Thiruvannamalai, Tamil Nadu</td>\n",
       "      <td>2111.952088</td>\n",
       "    </tr>\n",
       "    <tr>\n",
       "      <th>5</th>\n",
       "      <td>Meenakshi Temple | Madurai, Tamil Nadu</td>\n",
       "      <td>2070.953907</td>\n",
       "    </tr>\n",
       "    <tr>\n",
       "      <th>6</th>\n",
       "      <td>Brihadeshwara Temple | Thanjavur, Tamil Nadu</td>\n",
       "      <td>1983.899883</td>\n",
       "    </tr>\n",
       "    <tr>\n",
       "      <th>7</th>\n",
       "      <td>Ranganathaswamy Temple | Srirangam, Tamil Nadu</td>\n",
       "      <td>1978.888316</td>\n",
       "    </tr>\n",
       "    <tr>\n",
       "      <th>8</th>\n",
       "      <td>Thillai Nataraja Temple | Chidambaram, Tamil Nadu</td>\n",
       "      <td>1921.816741</td>\n",
       "    </tr>\n",
       "    <tr>\n",
       "      <th>9</th>\n",
       "      <td>Chamundeshwari Temple | Mysore, Karnataka</td>\n",
       "      <td>1806.546481</td>\n",
       "    </tr>\n",
       "  </tbody>\n",
       "</table>\n",
       "</div>"
      ],
      "text/plain": [
       "                                          templeName  DistanceFromNewDelhi(Km)\n",
       "0                          Konark Sun Temple, Orissa               5987.434545\n",
       "1  Padmanabhaswamy temple | Thiruvananthapuram, K...               2224.043367\n",
       "2    Ramanathaswamy Temple | Rameshwaram, Tamil Nadu               2151.056161\n",
       "3         Sabarimala Temple | Pathanamthitta, Kerala               2140.610913\n",
       "4  Annamalaiyer Temple | Thiruvannamalai, Tamil Nadu               2111.952088\n",
       "5             Meenakshi Temple | Madurai, Tamil Nadu               2070.953907\n",
       "6       Brihadeshwara Temple | Thanjavur, Tamil Nadu               1983.899883\n",
       "7     Ranganathaswamy Temple | Srirangam, Tamil Nadu               1978.888316\n",
       "8  Thillai Nataraja Temple | Chidambaram, Tamil Nadu               1921.816741\n",
       "9          Chamundeshwari Temple | Mysore, Karnataka               1806.546481"
      ]
     },
     "execution_count": 93,
     "metadata": {},
     "output_type": "execute_result"
    }
   ],
   "source": [
    "# For NewDelhi\n",
    "dist_from_city(\"DistanceFromNewDelhi(Km)\")"
   ]
  },
  {
   "cell_type": "code",
   "execution_count": 100,
   "id": "e2345862",
   "metadata": {},
   "outputs": [
    {
     "data": {
      "text/html": [
       "<div>\n",
       "<style scoped>\n",
       "    .dataframe tbody tr th:only-of-type {\n",
       "        vertical-align: middle;\n",
       "    }\n",
       "\n",
       "    .dataframe tbody tr th {\n",
       "        vertical-align: top;\n",
       "    }\n",
       "\n",
       "    .dataframe thead th {\n",
       "        text-align: right;\n",
       "    }\n",
       "</style>\n",
       "<table border=\"1\" class=\"dataframe\">\n",
       "  <thead>\n",
       "    <tr style=\"text-align: right;\">\n",
       "      <th></th>\n",
       "      <th>templeName</th>\n",
       "      <th>DistanceFromMumbai(Km)</th>\n",
       "    </tr>\n",
       "  </thead>\n",
       "  <tbody>\n",
       "    <tr>\n",
       "      <th>0</th>\n",
       "      <td>Konark Sun Temple, Orissa</td>\n",
       "      <td>6345.522996</td>\n",
       "    </tr>\n",
       "    <tr>\n",
       "      <th>1</th>\n",
       "      <td>Kamakhya Temple | Guwahati, Assam</td>\n",
       "      <td>2090.985100</td>\n",
       "    </tr>\n",
       "    <tr>\n",
       "      <th>2</th>\n",
       "      <td>Shankaracharya Temple | Srinagar, Jammu &amp; Kashmir</td>\n",
       "      <td>1672.996246</td>\n",
       "    </tr>\n",
       "    <tr>\n",
       "      <th>3</th>\n",
       "      <td>Amarnath Temple | Pahalgam, Jammu &amp; Kashmir</td>\n",
       "      <td>1672.977247</td>\n",
       "    </tr>\n",
       "    <tr>\n",
       "      <th>4</th>\n",
       "      <td>Chennakesava Temple | Belur, Karnataka</td>\n",
       "      <td>1655.768411</td>\n",
       "    </tr>\n",
       "    <tr>\n",
       "      <th>5</th>\n",
       "      <td>Dakshineswar Kali Temple | Kolkata, West Bengal</td>\n",
       "      <td>1655.629682</td>\n",
       "    </tr>\n",
       "    <tr>\n",
       "      <th>6</th>\n",
       "      <td>Kalighat Kali Temple | Kolkata, West Bengal</td>\n",
       "      <td>1655.629682</td>\n",
       "    </tr>\n",
       "    <tr>\n",
       "      <th>7</th>\n",
       "      <td>Vaishno Devi Temple | Vaishno Devi, Jammu &amp; Ka...</td>\n",
       "      <td>1559.382643</td>\n",
       "    </tr>\n",
       "    <tr>\n",
       "      <th>8</th>\n",
       "      <td>Jwalamukhi Temple | Kangra, Himachal Pradesh</td>\n",
       "      <td>1478.291352</td>\n",
       "    </tr>\n",
       "    <tr>\n",
       "      <th>9</th>\n",
       "      <td>Gangotri Temple | Gangotri, Uttarakhand</td>\n",
       "      <td>1454.357504</td>\n",
       "    </tr>\n",
       "  </tbody>\n",
       "</table>\n",
       "</div>"
      ],
      "text/plain": [
       "                                          templeName  DistanceFromMumbai(Km)\n",
       "0                          Konark Sun Temple, Orissa             6345.522996\n",
       "1                  Kamakhya Temple | Guwahati, Assam             2090.985100\n",
       "2  Shankaracharya Temple | Srinagar, Jammu & Kashmir             1672.996246\n",
       "3        Amarnath Temple | Pahalgam, Jammu & Kashmir             1672.977247\n",
       "4             Chennakesava Temple | Belur, Karnataka             1655.768411\n",
       "5    Dakshineswar Kali Temple | Kolkata, West Bengal             1655.629682\n",
       "6        Kalighat Kali Temple | Kolkata, West Bengal             1655.629682\n",
       "7  Vaishno Devi Temple | Vaishno Devi, Jammu & Ka...             1559.382643\n",
       "8       Jwalamukhi Temple | Kangra, Himachal Pradesh             1478.291352\n",
       "9            Gangotri Temple | Gangotri, Uttarakhand             1454.357504"
      ]
     },
     "execution_count": 100,
     "metadata": {},
     "output_type": "execute_result"
    }
   ],
   "source": [
    "#From Mumbai\n",
    "dist_from_city(\"DistanceFromMumbai(Km)\")"
   ]
  },
  {
   "cell_type": "code",
   "execution_count": null,
   "id": "b06e5f6e",
   "metadata": {},
   "outputs": [],
   "source": []
  }
 ],
 "metadata": {
  "kernelspec": {
   "display_name": "Python 3",
   "language": "python",
   "name": "python3"
  },
  "language_info": {
   "codemirror_mode": {
    "name": "ipython",
    "version": 3
   },
   "file_extension": ".py",
   "mimetype": "text/x-python",
   "name": "python",
   "nbconvert_exporter": "python",
   "pygments_lexer": "ipython3",
   "version": "3.8.8"
  }
 },
 "nbformat": 4,
 "nbformat_minor": 5
}
