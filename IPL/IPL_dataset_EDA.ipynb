{
 "cells": [
  {
   "cell_type": "markdown",
   "id": "d52b71da",
   "metadata": {},
   "source": [
    "### You are given a data set with peformance of 235 players and tasked to form a team of 11. Lets dice, slice and understand the data set and pick the \"winning team\"."
   ]
  },
  {
   "cell_type": "markdown",
   "id": "37397477",
   "metadata": {},
   "source": [
    "#### Section #1\n",
    "1. Import all the required libraries\n",
    "2. Import the dataset \n",
    "3. Basic understanding of the data df.info(), df.describe()\n",
    "4. Check of null values \n"
   ]
  },
  {
   "cell_type": "code",
   "execution_count": 12,
   "id": "99b907de",
   "metadata": {},
   "outputs": [],
   "source": [
    "import pandas as pd\n",
    "import numpy as np\n",
    "import matplotlib.pyplot as plt\n",
    "import seaborn as sns"
   ]
  },
  {
   "cell_type": "code",
   "execution_count": 14,
   "id": "41a713f3",
   "metadata": {},
   "outputs": [
    {
     "data": {
      "text/html": [
       "<div>\n",
       "<style scoped>\n",
       "    .dataframe tbody tr th:only-of-type {\n",
       "        vertical-align: middle;\n",
       "    }\n",
       "\n",
       "    .dataframe tbody tr th {\n",
       "        vertical-align: top;\n",
       "    }\n",
       "\n",
       "    .dataframe thead th {\n",
       "        text-align: right;\n",
       "    }\n",
       "</style>\n",
       "<table border=\"1\" class=\"dataframe\">\n",
       "  <thead>\n",
       "    <tr style=\"text-align: right;\">\n",
       "      <th></th>\n",
       "      <th>Player Name</th>\n",
       "      <th>Team</th>\n",
       "      <th>Nationality</th>\n",
       "      <th>Player_Type</th>\n",
       "      <th>Capped</th>\n",
       "      <th>Matches_Played</th>\n",
       "      <th>Runs</th>\n",
       "      <th>Average</th>\n",
       "      <th>Strike_Rate</th>\n",
       "      <th>Wickets</th>\n",
       "      <th>Bowling_average</th>\n",
       "      <th>Economy</th>\n",
       "      <th>Bowling_Strike_Rate</th>\n",
       "      <th>Catches</th>\n",
       "      <th>Run_outs</th>\n",
       "      <th>Stumps</th>\n",
       "    </tr>\n",
       "  </thead>\n",
       "  <tbody>\n",
       "    <tr>\n",
       "      <th>0</th>\n",
       "      <td>Shikhar Dhawan</td>\n",
       "      <td>Punjab</td>\n",
       "      <td>Indian</td>\n",
       "      <td>Batter</td>\n",
       "      <td>1</td>\n",
       "      <td>192.0</td>\n",
       "      <td>5783.0</td>\n",
       "      <td>34.63</td>\n",
       "      <td>126.60</td>\n",
       "      <td>4.0</td>\n",
       "      <td>16.5</td>\n",
       "      <td>8.25</td>\n",
       "      <td>12.0</td>\n",
       "      <td>NaN</td>\n",
       "      <td>NaN</td>\n",
       "      <td>NaN</td>\n",
       "    </tr>\n",
       "    <tr>\n",
       "      <th>1</th>\n",
       "      <td>Shreyas Iyer</td>\n",
       "      <td>Kolkata</td>\n",
       "      <td>Indian</td>\n",
       "      <td>Batter</td>\n",
       "      <td>1</td>\n",
       "      <td>87.0</td>\n",
       "      <td>2375.0</td>\n",
       "      <td>31.67</td>\n",
       "      <td>123.96</td>\n",
       "      <td>NaN</td>\n",
       "      <td>NaN</td>\n",
       "      <td>NaN</td>\n",
       "      <td>NaN</td>\n",
       "      <td>NaN</td>\n",
       "      <td>NaN</td>\n",
       "      <td>NaN</td>\n",
       "    </tr>\n",
       "  </tbody>\n",
       "</table>\n",
       "</div>"
      ],
      "text/plain": [
       "      Player Name     Team Nationality Player_Type  Capped  Matches_Played  \\\n",
       "0  Shikhar Dhawan   Punjab      Indian      Batter       1           192.0   \n",
       "1   Shreyas Iyer   Kolkata      Indian      Batter       1            87.0   \n",
       "\n",
       "     Runs  Average  Strike_Rate  Wickets  Bowling_average  Economy  \\\n",
       "0  5783.0    34.63       126.60      4.0             16.5     8.25   \n",
       "1  2375.0    31.67       123.96      NaN              NaN      NaN   \n",
       "\n",
       "   Bowling_Strike_Rate  Catches  Run_outs  Stumps  \n",
       "0                 12.0      NaN       NaN     NaN  \n",
       "1                  NaN      NaN       NaN     NaN  "
      ]
     },
     "execution_count": 14,
     "metadata": {},
     "output_type": "execute_result"
    }
   ],
   "source": [
    "df = pd.read_csv(\"Data/IPLData.csv\")\n",
    "df.head(2)"
   ]
  },
  {
   "cell_type": "code",
   "execution_count": 7,
   "id": "f179b4ef",
   "metadata": {},
   "outputs": [
    {
     "name": "stdout",
     "output_type": "stream",
     "text": [
      "<class 'pandas.core.frame.DataFrame'>\n",
      "RangeIndex: 235 entries, 0 to 234\n",
      "Data columns (total 16 columns):\n",
      " #   Column               Non-Null Count  Dtype  \n",
      "---  ------               --------------  -----  \n",
      " 0   Player Name          235 non-null    object \n",
      " 1   Team                 235 non-null    object \n",
      " 2   Nationality          235 non-null    object \n",
      " 3   Player_Type          235 non-null    object \n",
      " 4   Capped               235 non-null    int64  \n",
      " 5   Matches_Played       215 non-null    float64\n",
      " 6   Runs                 165 non-null    float64\n",
      " 7   Average              161 non-null    float64\n",
      " 8   Strike_Rate          163 non-null    float64\n",
      " 9   Wickets              140 non-null    float64\n",
      " 10  Bowling_average      135 non-null    float64\n",
      " 11  Economy              143 non-null    float64\n",
      " 12  Bowling_Strike_Rate  119 non-null    float64\n",
      " 13  Catches              27 non-null     float64\n",
      " 14  Run_outs             27 non-null     float64\n",
      " 15  Stumps               27 non-null     float64\n",
      "dtypes: float64(11), int64(1), object(4)\n",
      "memory usage: 29.5+ KB\n"
     ]
    }
   ],
   "source": [
    "df.info()"
   ]
  },
  {
   "cell_type": "code",
   "execution_count": 8,
   "id": "e0e993e3",
   "metadata": {},
   "outputs": [
    {
     "data": {
      "text/html": [
       "<div>\n",
       "<style scoped>\n",
       "    .dataframe tbody tr th:only-of-type {\n",
       "        vertical-align: middle;\n",
       "    }\n",
       "\n",
       "    .dataframe tbody tr th {\n",
       "        vertical-align: top;\n",
       "    }\n",
       "\n",
       "    .dataframe thead th {\n",
       "        text-align: right;\n",
       "    }\n",
       "</style>\n",
       "<table border=\"1\" class=\"dataframe\">\n",
       "  <thead>\n",
       "    <tr style=\"text-align: right;\">\n",
       "      <th></th>\n",
       "      <th>Capped</th>\n",
       "      <th>Matches_Played</th>\n",
       "      <th>Runs</th>\n",
       "      <th>Average</th>\n",
       "      <th>Strike_Rate</th>\n",
       "      <th>Wickets</th>\n",
       "      <th>Bowling_average</th>\n",
       "      <th>Economy</th>\n",
       "      <th>Bowling_Strike_Rate</th>\n",
       "      <th>Catches</th>\n",
       "      <th>Run_outs</th>\n",
       "      <th>Stumps</th>\n",
       "    </tr>\n",
       "  </thead>\n",
       "  <tbody>\n",
       "    <tr>\n",
       "      <th>count</th>\n",
       "      <td>235.000000</td>\n",
       "      <td>215.000000</td>\n",
       "      <td>165.000000</td>\n",
       "      <td>161.000000</td>\n",
       "      <td>163.000000</td>\n",
       "      <td>140.000000</td>\n",
       "      <td>135.000000</td>\n",
       "      <td>143.000000</td>\n",
       "      <td>119.000000</td>\n",
       "      <td>27.000000</td>\n",
       "      <td>27.000000</td>\n",
       "      <td>27.000000</td>\n",
       "    </tr>\n",
       "    <tr>\n",
       "      <th>mean</th>\n",
       "      <td>0.838298</td>\n",
       "      <td>43.897674</td>\n",
       "      <td>840.575758</td>\n",
       "      <td>21.792391</td>\n",
       "      <td>121.009939</td>\n",
       "      <td>31.485714</td>\n",
       "      <td>32.907185</td>\n",
       "      <td>8.223182</td>\n",
       "      <td>24.686134</td>\n",
       "      <td>30.962963</td>\n",
       "      <td>3.444444</td>\n",
       "      <td>6.259259</td>\n",
       "    </tr>\n",
       "    <tr>\n",
       "      <th>std</th>\n",
       "      <td>0.561802</td>\n",
       "      <td>48.695302</td>\n",
       "      <td>1270.341831</td>\n",
       "      <td>11.664156</td>\n",
       "      <td>30.739189</td>\n",
       "      <td>36.872420</td>\n",
       "      <td>18.191441</td>\n",
       "      <td>1.223541</td>\n",
       "      <td>12.982049</td>\n",
       "      <td>34.544822</td>\n",
       "      <td>5.010246</td>\n",
       "      <td>9.928950</td>\n",
       "    </tr>\n",
       "    <tr>\n",
       "      <th>min</th>\n",
       "      <td>0.000000</td>\n",
       "      <td>1.000000</td>\n",
       "      <td>0.000000</td>\n",
       "      <td>0.000000</td>\n",
       "      <td>0.000000</td>\n",
       "      <td>0.000000</td>\n",
       "      <td>0.000000</td>\n",
       "      <td>5.360000</td>\n",
       "      <td>0.000000</td>\n",
       "      <td>0.000000</td>\n",
       "      <td>0.000000</td>\n",
       "      <td>0.000000</td>\n",
       "    </tr>\n",
       "    <tr>\n",
       "      <th>25%</th>\n",
       "      <td>0.500000</td>\n",
       "      <td>11.500000</td>\n",
       "      <td>67.000000</td>\n",
       "      <td>13.800000</td>\n",
       "      <td>112.635000</td>\n",
       "      <td>6.000000</td>\n",
       "      <td>23.025000</td>\n",
       "      <td>7.390000</td>\n",
       "      <td>18.495000</td>\n",
       "      <td>3.500000</td>\n",
       "      <td>0.000000</td>\n",
       "      <td>0.000000</td>\n",
       "    </tr>\n",
       "    <tr>\n",
       "      <th>50%</th>\n",
       "      <td>1.000000</td>\n",
       "      <td>25.000000</td>\n",
       "      <td>289.000000</td>\n",
       "      <td>22.410000</td>\n",
       "      <td>128.630000</td>\n",
       "      <td>19.500000</td>\n",
       "      <td>29.070000</td>\n",
       "      <td>8.190000</td>\n",
       "      <td>21.750000</td>\n",
       "      <td>19.000000</td>\n",
       "      <td>1.000000</td>\n",
       "      <td>2.000000</td>\n",
       "    </tr>\n",
       "    <tr>\n",
       "      <th>75%</th>\n",
       "      <td>1.000000</td>\n",
       "      <td>56.000000</td>\n",
       "      <td>954.000000</td>\n",
       "      <td>29.300000</td>\n",
       "      <td>137.550000</td>\n",
       "      <td>40.500000</td>\n",
       "      <td>36.030000</td>\n",
       "      <td>8.785000</td>\n",
       "      <td>26.190000</td>\n",
       "      <td>51.500000</td>\n",
       "      <td>4.000000</td>\n",
       "      <td>7.000000</td>\n",
       "    </tr>\n",
       "    <tr>\n",
       "      <th>max</th>\n",
       "      <td>2.000000</td>\n",
       "      <td>220.000000</td>\n",
       "      <td>6283.000000</td>\n",
       "      <td>58.500000</td>\n",
       "      <td>190.240000</td>\n",
       "      <td>167.000000</td>\n",
       "      <td>153.000000</td>\n",
       "      <td>13.120000</td>\n",
       "      <td>108.000000</td>\n",
       "      <td>126.000000</td>\n",
       "      <td>21.000000</td>\n",
       "      <td>39.000000</td>\n",
       "    </tr>\n",
       "  </tbody>\n",
       "</table>\n",
       "</div>"
      ],
      "text/plain": [
       "           Capped  Matches_Played         Runs     Average  Strike_Rate  \\\n",
       "count  235.000000      215.000000   165.000000  161.000000   163.000000   \n",
       "mean     0.838298       43.897674   840.575758   21.792391   121.009939   \n",
       "std      0.561802       48.695302  1270.341831   11.664156    30.739189   \n",
       "min      0.000000        1.000000     0.000000    0.000000     0.000000   \n",
       "25%      0.500000       11.500000    67.000000   13.800000   112.635000   \n",
       "50%      1.000000       25.000000   289.000000   22.410000   128.630000   \n",
       "75%      1.000000       56.000000   954.000000   29.300000   137.550000   \n",
       "max      2.000000      220.000000  6283.000000   58.500000   190.240000   \n",
       "\n",
       "          Wickets  Bowling_average     Economy  Bowling_Strike_Rate  \\\n",
       "count  140.000000       135.000000  143.000000           119.000000   \n",
       "mean    31.485714        32.907185    8.223182            24.686134   \n",
       "std     36.872420        18.191441    1.223541            12.982049   \n",
       "min      0.000000         0.000000    5.360000             0.000000   \n",
       "25%      6.000000        23.025000    7.390000            18.495000   \n",
       "50%     19.500000        29.070000    8.190000            21.750000   \n",
       "75%     40.500000        36.030000    8.785000            26.190000   \n",
       "max    167.000000       153.000000   13.120000           108.000000   \n",
       "\n",
       "          Catches   Run_outs     Stumps  \n",
       "count   27.000000  27.000000  27.000000  \n",
       "mean    30.962963   3.444444   6.259259  \n",
       "std     34.544822   5.010246   9.928950  \n",
       "min      0.000000   0.000000   0.000000  \n",
       "25%      3.500000   0.000000   0.000000  \n",
       "50%     19.000000   1.000000   2.000000  \n",
       "75%     51.500000   4.000000   7.000000  \n",
       "max    126.000000  21.000000  39.000000  "
      ]
     },
     "execution_count": 8,
     "metadata": {},
     "output_type": "execute_result"
    }
   ],
   "source": [
    "df.describe()"
   ]
  },
  {
   "cell_type": "code",
   "execution_count": 15,
   "id": "5ee6dff7",
   "metadata": {},
   "outputs": [
    {
     "data": {
      "text/plain": [
       "Player Name            235\n",
       "Team                    14\n",
       "Nationality              2\n",
       "Player_Type              4\n",
       "Capped                   3\n",
       "Matches_Played          89\n",
       "Runs                   154\n",
       "Average                142\n",
       "Strike_Rate            152\n",
       "Wickets                 65\n",
       "Bowling_average        126\n",
       "Economy                120\n",
       "Bowling_Strike_Rate    113\n",
       "Catches                 23\n",
       "Run_outs                10\n",
       "Stumps                  13\n",
       "dtype: int64"
      ]
     },
     "execution_count": 15,
     "metadata": {},
     "output_type": "execute_result"
    }
   ],
   "source": [
    "df.nunique()"
   ]
  },
  {
   "cell_type": "markdown",
   "id": "f6c99030",
   "metadata": {},
   "source": [
    "### Section 2\n",
    "1. Lets remove the data for players \n",
    "2. Import the dataset \n",
    "3. Basic understanding of the data df.info(), df.describe()\n",
    "4. Check of null values \n"
   ]
  },
  {
   "cell_type": "code",
   "execution_count": 34,
   "id": "94f0de11",
   "metadata": {},
   "outputs": [
    {
     "data": {
      "text/plain": [
       "array([1, 0, 2], dtype=int64)"
      ]
     },
     "execution_count": 34,
     "metadata": {},
     "output_type": "execute_result"
    }
   ],
   "source": [
    "df.Capped.unique()"
   ]
  },
  {
   "cell_type": "code",
   "execution_count": null,
   "id": "9d2bb36f",
   "metadata": {},
   "outputs": [],
   "source": []
  },
  {
   "cell_type": "code",
   "execution_count": null,
   "id": "86a428d1",
   "metadata": {},
   "outputs": [],
   "source": []
  },
  {
   "cell_type": "code",
   "execution_count": null,
   "id": "62862962",
   "metadata": {},
   "outputs": [],
   "source": []
  },
  {
   "cell_type": "code",
   "execution_count": 25,
   "id": "4f6304a0",
   "metadata": {},
   "outputs": [
    {
     "data": {
      "text/plain": [
       "array([  0,   0,   0,   0,   0,  20,  70,  74,  72,  95, 100,  92, 116,\n",
       "       208, 208, 208], dtype=int64)"
      ]
     },
     "execution_count": 25,
     "metadata": {},
     "output_type": "execute_result"
    }
   ],
   "source": [
    "df.isna().sum().values"
   ]
  },
  {
   "cell_type": "code",
   "execution_count": 31,
   "id": "f3e6665d",
   "metadata": {},
   "outputs": [
    {
     "data": {
      "text/plain": [
       "<AxesSubplot:ylabel='count'>"
      ]
     },
     "execution_count": 31,
     "metadata": {},
     "output_type": "execute_result"
    },
    {
     "data": {
      "image/png": "[encoded data removed]",
      "text/plain": [
       "<Figure size 432x288 with 1 Axes>"
      ]
     },
     "metadata": {
      "needs_background": "light"
     },
     "output_type": "display_data"
    }
   ],
   "source": [
    "sns.countplot(x = df.isna().sum() )"
   ]
  },
  {
   "cell_type": "code",
   "execution_count": null,
   "id": "0ff95e4a",
   "metadata": {},
   "outputs": [],
   "source": []
  }
 ],
 "metadata": {
  "kernelspec": {
   "display_name": "Python 3",
   "language": "python",
   "name": "python3"
  },
  "language_info": {
   "codemirror_mode": {
    "name": "ipython",
    "version": 3
   },
   "file_extension": ".py",
   "mimetype": "text/x-python",
   "name": "python",
   "nbconvert_exporter": "python",
   "pygments_lexer": "ipython3",
   "version": "3.8.8"
  }
 },
 "nbformat": 4,
 "nbformat_minor": 5
}
